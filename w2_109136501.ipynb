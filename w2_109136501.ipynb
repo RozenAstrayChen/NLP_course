{
 "cells": [
  {
   "cell_type": "markdown",
   "metadata": {},
   "source": [
    "# Assignment02: Find Academic Keyword List\n",
    "Academic Keywords are the words we seldom use ordinarily, but often use in Academic articles. \"This shows\" and \"in conclusion\" are examples of Academic Keywords. This assignment want you to use Rank Ratio and compare two dataset to find Academic Keyword List(AKL).\n",
    "<br><br>\n",
    "One dataset is taken from [`British Academic Written English Corpus(BAWE)`](https://www.coventry.ac.uk/research/research-directories/current-projects/2015/british-academic-written-english-corpus-bawe/), which collect a record of proficient university-level student writing. Hence, BAWE can be seen as Academic data. Another one is called [`Web1T`](https://catalog.ldc.upenn.edu/LDC2006T13), which is presented by Google. Web1T colloct 1 trillion words of English Web, so we can treat it as the representative of common words. "
   ]
  },
  {
   "cell_type": "markdown",
   "metadata": {},
   "source": [
    "## N-gram counting\n",
    "This part is almost same as what you need to do in Assignment01. The way to find N-gram is the same as Assignment01. However, tokenization and calculating frequency are a little different. The rules of tokenization in this Assignment are:\n",
    " 1. Ignore case (e.g., \"The\" is the same as \"the\")\n",
    " 2. Split by white spaces <s>and punctuations</s>\n",
    " 3. Ignore all punctuation\n",
    "<br><br>\n",
    "\n",
    "As for calculating frequency, we want you calculating <u>document frequency</u> in this Assignment. <br>What is document frequency? \n",
    "<br>Article 1: \n",
    "> We all know that water masses in the ocean are thought to be transferred by the wind. ...\n",
    "\n",
    "Althought there are at least 2 \"the\" in Article 1, the document frequency of \"the\" is still 1 in this article.<br> No mater how many times does \"the\" show up in Article 1, the document frquency of it is always 1.<br>\n",
    "Article 2: \n",
    "> The film Dantes Peak is about a dormant volcano that suddenly erupts and threatens the nearby town. ...\n",
    "\n",
    "Considering the Article 1 and 2, the document frequency of \"the\" is 2 now.<br>\n",
    "Document frequency can reduce the influence of terms, like \"NLP\".\n",
    "<br><br>\n",
    "<span style=\"color: red\">[ TODO ]</span> Try to modify the functions coded in Assignment01 to <u>calculate document frequencies of all unigram.</u>.\n",
    "\n",
    "Google has calculated the frequency of N-gram, so you only need to do it on BAWE."
   ]
  },
  {
   "cell_type": "code",
   "execution_count": 1,
   "metadata": {},
   "outputs": [],
   "source": [
    "def tokenize(text):\n",
    "    # [ TODO ] transform to lower case\n",
    "    text = text.lower()\n",
    "    # [ TODO ] seperate the words\n",
    "    tokens = text.split(' ')\n",
    "    return tokens"
   ]
  },
  {
   "cell_type": "code",
   "execution_count": 2,
   "metadata": {},
   "outputs": [],
   "source": [
    "def calculate_frequency(tokens):\n",
    "    # [ TODO ]\n",
    "    frequency = {...}  \n",
    "    frequency = collections.Counter(tokens)\n",
    "    \"\"\"\n",
    "    Sample output: \n",
    "    {\n",
    "        'the': 79809, \n",
    "        'project': 288,\n",
    "        ...\n",
    "    }\n",
    "    \"\"\"\n",
    "    return frequency"
   ]
  },
  {
   "cell_type": "code",
   "execution_count": 46,
   "metadata": {},
   "outputs": [],
   "source": [
    "from nltk import ngrams\n",
    "\n",
    "def get_ngram(tokens, n=2):\n",
    "    ... # [ TODO ]\n",
    "    n_grams = ngrams(tokens, n)\n",
    "    return [ ' '.join(grams) for grams in n_grams]"
   ]
  },
  {
   "cell_type": "code",
   "execution_count": 4,
   "metadata": {},
   "outputs": [],
   "source": [
    "import os\n",
    "import collections"
   ]
  },
  {
   "cell_type": "code",
   "execution_count": 5,
   "metadata": {},
   "outputs": [
    {
     "name": "stdout",
     "output_type": "stream",
     "text": [
      "data/BAWE.txt\n"
     ]
    }
   ],
   "source": [
    "file_path = os.path.join('data', 'BAWE.txt')\n",
    "print(file_path)\n",
    "\n",
    "BAWE_unigram = []\n",
    "tokens = []\n",
    "#### [ TODO ] calculate document frequency of unigram in BAWE\n",
    "with open(file_path, 'r') as f:\n",
    "    for text in f.readlines():\n",
    "        tokens += list(set(tokenize(text)))\n",
    "BAWE_unigram = calculate_frequency(tokens)\n",
    "        \n"
   ]
  },
  {
   "cell_type": "code",
   "execution_count": 6,
   "metadata": {},
   "outputs": [],
   "source": [
    "# Read Web1T Data\n",
    "file_path = os.path.join('data', 'Web1T_unigram.txt')\n",
    "Web1T_unigram_counter = {}\n",
    "with open(file_path,'r') as f:\n",
    "    for line in f.readlines():\n",
    "        line=line.rstrip(\"\\n\").split(\"\\t\")\n",
    "        Web1T_unigram_counter[line[0]] = int(line[1])"
   ]
  },
  {
   "cell_type": "markdown",
   "metadata": {},
   "source": [
    "## Rank\n",
    "Rank unigrms by their frequencies. The higher the frequency, the higher the rank.(The most frequent unigram ranks 1.)<br>\n",
    "<span style=\"color: red\">[ TODO ]</span> <u>Rank unigrams for Web1T and BAWE.</u>."
   ]
  },
  {
   "cell_type": "code",
   "execution_count": 7,
   "metadata": {},
   "outputs": [],
   "source": [
    "def print_top_n(counter, n = 10):\n",
    "    # [ TODO ]\n",
    "    return sorted(counter.items(), key=lambda x:x[1], reverse=True)[:10]"
   ]
  },
  {
   "cell_type": "code",
   "execution_count": 8,
   "metadata": {},
   "outputs": [
    {
     "data": {
      "text/plain": [
       "[('the', 23135851162),\n",
       " ('of', 13151942776),\n",
       " ('and', 12997637966),\n",
       " ('to', 12136980858),\n",
       " ('a', 9081174698),\n",
       " ('in', 8469404971),\n",
       " ('for', 5933321709),\n",
       " ('is', 4705743816),\n",
       " ('on', 3750423199),\n",
       " ('that', 3400031103)]"
      ]
     },
     "execution_count": 8,
     "metadata": {},
     "output_type": "execute_result"
    }
   ],
   "source": [
    "Web1T_unigram_Rank = sorted(Web1T_unigram_counter.items(), key=lambda x:x[1], reverse=True)\n",
    "#### [ TODO ] Rank unigrams for Web1T\n",
    "Web1T_unigram_Rank[:10]"
   ]
  },
  {
   "cell_type": "code",
   "execution_count": 9,
   "metadata": {},
   "outputs": [
    {
     "data": {
      "text/plain": [
       "[('and', 2761),\n",
       " ('the', 2761),\n",
       " ('in', 2761),\n",
       " ('to', 2761),\n",
       " ('of', 2761),\n",
       " ('a', 2760),\n",
       " ('as', 2748),\n",
       " ('for', 2747),\n",
       " ('that', 2747),\n",
       " ('with', 2746)]"
      ]
     },
     "execution_count": 9,
     "metadata": {},
     "output_type": "execute_result"
    }
   ],
   "source": [
    "BAWE_unigram_Rank = sorted(BAWE_unigram.items(), key=lambda x:x[1], reverse=True)\n",
    "#### [ TODO ] Rank unigrams for BAWE\n",
    "BAWE_unigram_Rank[:10]"
   ]
  },
  {
   "cell_type": "markdown",
   "metadata": {},
   "source": [
    "## Calculate Rank Ratio\n",
    "In this step, you need to map the same unigram in two dataset, and caalculate the Rank Ratio of unigram in BAWE.  <br>Please follow the formula for calculating Rank Ratio:<br> \n",
    "<br>\n",
    "<img src=\"https://imgur.com/vmK7Q1K.jpg\" width=30%><br>\n",
    "If the unigram doesn't appear in Web1T, the rank of it is treated as 1.\n",
    "\n",
    "<span style=\"color: red\">[ TODO ]</span> Please calculate all rank ratios of unigrams in BAWE."
   ]
  },
  {
   "cell_type": "code",
   "execution_count": 13,
   "metadata": {},
   "outputs": [],
   "source": [
    "def fill_miss_word(source_rank, target_rank):\n",
    "    for k, v in source_rank.items():\n",
    "        if k not in target_rank.keys():\n",
    "            target_rank[k] = 1\n",
    "    return target_rank"
   ]
  },
  {
   "cell_type": "code",
   "execution_count": 11,
   "metadata": {},
   "outputs": [
    {
     "name": "stdout",
     "output_type": "stream",
     "text": [
      "BAWE len 250648 Web1T 333333\n",
      "After fill up BAWE len 250648 Web1T 528822\n"
     ]
    }
   ],
   "source": [
    "#### [TODO] calculate all rank ratios of unigrams in BAWE\n",
    "print('BAWE len', len(BAWE_unigram), 'Web1T', len(Web1T_unigram_counter))\n",
    "\n",
    "#temp_Web1T_unigram_counter = fill_miss_word(BAWE_unigram, Web1T_unigram_counter)\n",
    "\n",
    "print('After fill up BAWE len', len(BAWE_unigram), 'Web1T', len(temp_Web1T_unigram_counter))"
   ]
  },
  {
   "cell_type": "code",
   "execution_count": 35,
   "metadata": {},
   "outputs": [
    {
     "name": "stdout",
     "output_type": "stream",
     "text": [
      "88737 1116\n"
     ]
    }
   ],
   "source": [
    "print(Web1T_unigram_counter['cannot'], BAWE_unigram['cannot'])"
   ]
  },
  {
   "cell_type": "code",
   "execution_count": 40,
   "metadata": {},
   "outputs": [],
   "source": [
    "def ranking(counter):\n",
    "    i = 1\n",
    "    rank = {}\n",
    "    for k, v in counter:\n",
    "        rank[k] = i\n",
    "        i += 1\n",
    "        \n",
    "    return rank\n",
    "\n",
    "def cal_rank_ratio(w, b):\n",
    "    ratio_dict = {}\n",
    "    for k, v in b.items():\n",
    "        if k not in w.keys():\n",
    "            w[k] = 1\n",
    "        \n",
    "        ratio_dict[k]  = w[k]/b[k]\n",
    "    return ratio_dict\n",
    "\n",
    "BRank = ranking(BAWE_unigram_Rank)\n",
    "WRank = ranking(Web1T_unigram_Rank)\n",
    "rank_ratio = cal_rank_ratio(WRank, BRank)\n"
   ]
  },
  {
   "cell_type": "markdown",
   "metadata": {},
   "source": [
    "## sort the result\n",
    "<span style=\"color: red\">[ TODO ]</span> Please show top 30 uigrams in Rank Ratio and the value of their Rank Ratio in this format: \n",
    "<br>\n",
    "<img src=\"https://imgur.com/AEkiCRr.jpg\" width=50%>"
   ]
  },
  {
   "cell_type": "code",
   "execution_count": 43,
   "metadata": {},
   "outputs": [
    {
     "data": {
      "text/plain": [
       "[('cannot', 666.21875),\n",
       " ('conclusion', 19.04245283018868),\n",
       " ('whilst', 17.126005361930297),\n",
       " ('emphasises', 16.528009535160905),\n",
       " ('suggests', 16.03125),\n",
       " ('argued', 15.53191489361702),\n",
       " ('trudgill', 15.247965925845028),\n",
       " ('sibilance', 15.028840068709881),\n",
       " ('essay', 14.758064516129032),\n",
       " ('generalisability', 14.439321151169578)]"
      ]
     },
     "execution_count": 43,
     "metadata": {},
     "output_type": "execute_result"
    }
   ],
   "source": [
    "#### [ TODO ] souw the result\n",
    "sorted(rank_ratio.items(), key=lambda x:x[1], reverse=True)[:10]"
   ]
  },
  {
   "cell_type": "markdown",
   "metadata": {},
   "source": [
    "## for Bigrams\n",
    "<span style=\"color: red\">[ TODO ]</span> Do the Same Thing for Bigrams"
   ]
  },
  {
   "cell_type": "code",
   "execution_count": 70,
   "metadata": {},
   "outputs": [
    {
     "name": "stdout",
     "output_type": "stream",
     "text": [
      "data/BAWE.txt\n"
     ]
    }
   ],
   "source": [
    "#### [TODO]\n",
    "\n",
    "# Read BAWE\n",
    "file_path = os.path.join('data', 'BAWE.txt')\n",
    "print(file_path)\n",
    "\n",
    "BAWE_bigram = []\n",
    "bi_tokens = []\n",
    "#### [ TODO ] calculate document frequency of unigram in BAWE\n",
    "with open(file_path, 'r') as f:\n",
    "    for text in f.readlines():\n",
    "        bi_tokens += list(set(get_ngram(tokenize(text))))\n",
    "        \n",
    "BAWE_bigram_counter = calculate_frequency(bi_tokens)\n",
    "\n",
    "\n",
    "# Read Web1T Data\n",
    "file_path = os.path.join('data', 'Web1T_bigram.txt')\n",
    "Web1T_bigram_counter = {}\n",
    "with open(file_path,'r') as f:\n",
    "    for line in f.readlines():\n",
    "        line=line.rstrip(\"\\n\").split(\"\\t\")\n",
    "        Web1T_bigram_counter[line[0]] = int(line[1])"
   ]
  },
  {
   "cell_type": "code",
   "execution_count": 76,
   "metadata": {},
   "outputs": [
    {
     "data": {
      "text/plain": [
       "[('of the', 2747),\n",
       " ('in the', 2731),\n",
       " ('to the', 2675),\n",
       " ('and the', 2535),\n",
       " ('to be', 2496)]"
      ]
     },
     "execution_count": 76,
     "metadata": {},
     "output_type": "execute_result"
    }
   ],
   "source": [
    "sorted(BAWE_bigram_counter.items(), key=lambda x:x[1], reverse=True)[:5]"
   ]
  },
  {
   "cell_type": "code",
   "execution_count": 74,
   "metadata": {},
   "outputs": [
    {
     "data": {
      "text/plain": [
       "102"
      ]
     },
     "execution_count": 74,
     "metadata": {},
     "output_type": "execute_result"
    }
   ],
   "source": [
    "BAWE_bigram_counter['in conclusion']"
   ]
  },
  {
   "cell_type": "code",
   "execution_count": 75,
   "metadata": {},
   "outputs": [
    {
     "data": {
      "text/plain": [
       "116725"
      ]
     },
     "execution_count": 75,
     "metadata": {},
     "output_type": "execute_result"
    }
   ],
   "source": [
    "Web1T_bigram_counter['in conclusion']"
   ]
  },
  {
   "cell_type": "code",
   "execution_count": 71,
   "metadata": {},
   "outputs": [
    {
     "data": {
      "text/plain": [
       "[('this essay', 201.16129032258064),\n",
       " ('the british', 192.93933054393307),\n",
       " ('the european', 166.58220211161387),\n",
       " ('this suggests', 149.1353226925746),\n",
       " ('this shows', 115.19444444444444),\n",
       " ('however this', 85.24570982839313),\n",
       " ('in conclusion', 76.78549477566072),\n",
       " ('the united', 65.34662576687117),\n",
       " ('however in', 63.14808539478143),\n",
       " ('i shall', 61.83534136546185)]"
      ]
     },
     "execution_count": 71,
     "metadata": {},
     "output_type": "execute_result"
    }
   ],
   "source": [
    "BAWE_bigram_Rank = sorted(BAWE_bigram_counter.items(), key=lambda x:x[1], reverse=True)\n",
    "Web1T_bigram_Rank = sorted(Web1T_bigram_counter.items(), key=lambda x:x[1], reverse=True)\n",
    "\n",
    "BRank = ranking(BAWE_bigram_Rank)\n",
    "WRank = ranking(Web1T_bigram_Rank)\n",
    "rank_ratio = cal_rank_ratio(WRank, BRank)\n",
    "\n",
    "print_top_n(rank_ratio)"
   ]
  },
  {
   "cell_type": "markdown",
   "metadata": {},
   "source": [
    "## TA's Notes\n",
    "\n",
    "If you complete the Assignment, please use [this link](https://docs.google.com/spreadsheets/d/1QGeYl5dsD9sFO9SYg4DIKk-xr-yGjRDOOLKZqCLDv2E/edit#gid=40492256) to reserve demo time.  \n",
    "The score is only given after TAs review your implementation, so <u>**make sure you make a appointment with a TA before you miss the deadline**</u> .  <br>After demo, please upload your assignment to eeclass. You just need to hand in this ipynb file and rename it as XXXXXXXXX(Your student ID).ipynb.\n",
    "<br>Note that **late submission will not be allowed**.  "
   ]
  }
 ],
 "metadata": {
  "kernelspec": {
   "display_name": "Python 3",
   "language": "python",
   "name": "python3"
  },
  "language_info": {
   "codemirror_mode": {
    "name": "ipython",
    "version": 3
   },
   "file_extension": ".py",
   "mimetype": "text/x-python",
   "name": "python",
   "nbconvert_exporter": "python",
   "pygments_lexer": "ipython3",
   "version": "3.6.8"
  }
 },
 "nbformat": 4,
 "nbformat_minor": 4
}
